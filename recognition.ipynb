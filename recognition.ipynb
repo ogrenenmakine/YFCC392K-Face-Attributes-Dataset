{
 "cells": [
  {
   "cell_type": "code",
   "execution_count": 1,
   "metadata": {
    "id": "Rc5E-MOY12I5"
   },
   "outputs": [],
   "source": [
    "from torch import nn\n",
    "from torch.autograd import Variable\n",
    "import torch\n",
    "import torch.nn.functional as F\n",
    "import torchvision\n",
    "import torch.utils.data as data\n",
    "import torchvision.transforms as transforms\n",
    "import torchvision.utils as vutils\n",
    "import numpy as np\n",
    "from PIL import Image\n",
    "import os\n",
    "import matplotlib.pyplot as plt\n",
    "import time\n",
    "from torchsummary import summary\n",
    "import config\n",
    "from facenet_pytorch import training, InceptionResnetV1\n",
    "from torch.utils.data import DataLoader, SubsetRandomSampler\n",
    "from torch import optim\n",
    "from torch.optim.lr_scheduler import MultiStepLR\n",
    "from torch.utils.tensorboard import SummaryWriter\n",
    "from torchvision import datasets, transforms\n",
    "from PIL import Image\n",
    "import glob\n",
    "import random\n",
    "import tqdm\n",
    "from sklearn.metrics import roc_auc_score"
   ]
  },
  {
   "cell_type": "code",
   "execution_count": 2,
   "metadata": {},
   "outputs": [],
   "source": [
    "class CelebA(data.Dataset):\n",
    "    def __init__(self, data_path, attr_path, image_size, mode, selected_attrs):\n",
    "        super(CelebA, self).__init__()\n",
    "        self.data_path = data_path\n",
    "        att_list = open(attr_path, 'r', encoding='utf-8').readlines()[1].split()\n",
    "        atts = [att_list.index(att) + 1 for att in selected_attrs]\n",
    "        images = np.loadtxt(attr_path, skiprows=2, usecols=[0], dtype=np.str)\n",
    "        labels = np.loadtxt(attr_path, skiprows=2, usecols=atts, dtype=np.int)\n",
    "        \n",
    "        self.tf = transforms.Compose([\n",
    "                transforms.ToTensor(),\n",
    "                transforms.Normalize((0.5, 0.5, 0.5), (0.5, 0.5, 0.5)),\n",
    "            ])\n",
    "        self.tf_a = transforms.Compose([\n",
    "            transforms.RandomAffine(degrees=(3, 3),translate=(0.1, 0.1),scale=(0.9, 1.1)),\n",
    "            transforms.ColorJitter(hue=.05, saturation=.05),\n",
    "        ])        \n",
    "        if mode == 'train':\n",
    "            self.images = images[:182000]\n",
    "            self.labels = labels[:182000]\n",
    "\n",
    "        if mode == 'valid':\n",
    "            self.images = images[182000:182637]\n",
    "            self.labels = labels[182000:182637]\n",
    "\n",
    "        if mode == 'test':\n",
    "            self.images = images[182637:]\n",
    "            self.labels = labels[182637:]\n",
    "                                       \n",
    "        self.length = len(self.images)\n",
    "    def __getitem__(self, index):\n",
    "        if index < 182000:\n",
    "            if random.random() > 0.5:\n",
    "                img = self.tf(self.tf_a(Image.open(os.path.join(self.data_path, self.images[index]))))\n",
    "            else:\n",
    "                img = self.tf(Image.open(os.path.join(self.data_path, self.images[index])))\n",
    "        else:\n",
    "            img = self.tf(Image.open(os.path.join(self.data_path, self.images[index])))\n",
    "        att = torch.tensor((self.labels[index] + 1) // 2)\n",
    "        return img, att.to(torch.float32)\n",
    "    def __len__(self):\n",
    "        return self.length"
   ]
  },
  {
   "cell_type": "code",
   "execution_count": 3,
   "metadata": {},
   "outputs": [],
   "source": [
    "class CelebA_extra(data.Dataset):\n",
    "    def __init__(self, data_path, attr_path, image_size, selected_attrs):\n",
    "        super(CelebA_extra, self).__init__()\n",
    "        self.data_path = data_path\n",
    "        att_list = open(attr_path, 'r', encoding='utf-8').readlines()[1].split()\n",
    "        images = np.genfromtxt(attr_path, skip_header=0, usecols=[0], dtype=np.str)\n",
    "        labels = np.genfromtxt(attr_path, skip_header=0, usecols=range(1,41), dtype=np.float32)\n",
    "        \n",
    "        self.images = images\n",
    "        self.labels = labels\n",
    "        self.tf = transforms.Compose([\n",
    "                transforms.ToTensor(),\n",
    "                transforms.Normalize((0.5, 0.5, 0.5), (0.5, 0.5, 0.5)),\n",
    "            ])\n",
    "        self.tf_a = transforms.Compose([\n",
    "            transforms.RandomAffine(degrees=(3, 3),translate=(0.1, 0.1),scale=(0.9, 1.1)),\n",
    "            transforms.ColorJitter(hue=.05, saturation=.05),\n",
    "        ])   \n",
    "                                       \n",
    "        self.length = len(self.images)\n",
    "    def __getitem__(self, index):\n",
    "        if random.random() > 0.5:\n",
    "            img = self.tf(self.tf_a(Image.open(os.path.join(self.data_path, self.images[index]))))\n",
    "        else:\n",
    "            img = self.tf(Image.open(os.path.join(self.data_path, self.images[index])))\n",
    "            \n",
    "        att = torch.tensor((self.labels[index] + 1) / 2)\n",
    "        return img, att.to(torch.float32)\n",
    "    def __len__(self):\n",
    "        return self.length"
   ]
  },
  {
   "cell_type": "code",
   "execution_count": 4,
   "metadata": {},
   "outputs": [],
   "source": [
    "attrs_default = [\"5_o_Clock_Shadow\", \"Arched_Eyebrows\", \"Attractive\", \"Bags_Under_Eyes\", \"Bald\", \"Bangs\", \"Big_Lips\", \"Big_Nose\", \"Black_Hair\", \"Blond_Hair\", \"Blurry\", \"Brown_Hair\", \"Bushy_Eyebrows\", \"Chubby\", \"Double_Chin\", \"Eyeglasses\", \"Goatee\", \"Gray_Hair\", \"Heavy_Makeup\", \"High_Cheekbones\", \"Male\", \"Mouth_Slightly_Open\", \"Mustache\", \"Narrow_Eyes\", \"No_Beard\", \"Oval_Face\", \"Pale_Skin\", \"Pointy_Nose\", \"Receding_Hairline\", \"Rosy_Cheeks\", \"Sideburns\", \"Smiling\", \"Straight_Hair\", \"Wavy_Hair\", \"Wearing_Earrings\", \"Wearing_Hat\", \"Wearing_Lipstick\", \"Wearing_Necklace\", \"Wearing_Necktie\", \"Young\"]"
   ]
  },
  {
   "cell_type": "code",
   "execution_count": 5,
   "metadata": {},
   "outputs": [],
   "source": [
    "# Root directory for dataset\n",
    "data_root = \"/home/mehmetyavuz/datasets/YFCC100m/img_align_celeba_standardized/\"\n",
    "data_root_extra = \"/home/mehmetyavuz/datasets/YFCC100m/\"\n",
    "attr_root = \"/home/mehmetyavuz/datasets/CelebA/list_attr_celeba.txt\"\n",
    "attr_root_extra = \"labels_filtered_train.txt\"\n",
    "#data_path  = \"/home/mehmetyavuz/datasets/YFCC100m/list_of_face_images.txt\"\n",
    "# Number of workers for dataloader\n",
    "workers = os.cpu_count()\n",
    "\n",
    "# Batch size during training\n",
    "batch_size = 128\n",
    "\n",
    "# Spatial size of training images. All images will be resized to this\n",
    "#   size using a transformer.\n",
    "image_size = (128,128)\n",
    "epochs = 32"
   ]
  },
  {
   "cell_type": "markdown",
   "metadata": {},
   "source": [
    "### Classifier"
   ]
  },
  {
   "cell_type": "code",
   "execution_count": 6,
   "metadata": {},
   "outputs": [],
   "source": [
    "dataset = CelebA(data_root, attr_root, image_size, \"train\", attrs_default)\n",
    "dataset_extra = CelebA_extra(data_root_extra, attr_root_extra, image_size, attrs_default)\n",
    "train_loader = torch.utils.data.DataLoader(dataset,\n",
    "#train_loader = torch.utils.data.DataLoader(dataset_extra,\n",
    "                                          batch_size=batch_size,\n",
    "                                          shuffle=True,\n",
    "                                          num_workers=workers)\n",
    "dataset = CelebA(data_root, \"/home/mehmetyavuz/datasets/CelebA/list_attr_celeba.txt\", image_size, 'valid',attrs_default)\n",
    "val_loader = torch.utils.data.DataLoader(dataset,\n",
    "                                          batch_size=batch_size,\n",
    "                                          shuffle=False,\n",
    "                                          num_workers=workers)\n",
    "dataset = CelebA(data_root, \"/home/mehmetyavuz/datasets/CelebA/list_attr_celeba.txt\", image_size, 'test',attrs_default)\n",
    "test_loader = torch.utils.data.DataLoader(dataset,\n",
    "                                          batch_size=batch_size,\n",
    "                                          shuffle=False,\n",
    "                                          num_workers=workers)"
   ]
  },
  {
   "cell_type": "code",
   "execution_count": 7,
   "metadata": {},
   "outputs": [],
   "source": [
    "device = torch.device(\"cuda:0\")"
   ]
  },
  {
   "cell_type": "code",
   "execution_count": 8,
   "metadata": {},
   "outputs": [],
   "source": [
    "resnet = InceptionResnetV1(\n",
    "    classify=True,\n",
    "    pretrained='vggface2',\n",
    "    num_classes=40\n",
    ").to(device)"
   ]
  },
  {
   "cell_type": "code",
   "execution_count": 9,
   "metadata": {},
   "outputs": [],
   "source": [
    "resnet = nn.DataParallel(resnet)"
   ]
  },
  {
   "cell_type": "code",
   "execution_count": 10,
   "metadata": {},
   "outputs": [
    {
     "data": {
      "text/plain": [
       "<All keys matched successfully>"
      ]
     },
     "execution_count": 10,
     "metadata": {},
     "output_type": "execute_result"
    }
   ],
   "source": [
    "resnet.load_state_dict(torch.load(\"resnet_fe_resnet50_feature_outlier_pretraining*.pth\", map_location=device))"
   ]
  },
  {
   "cell_type": "code",
   "execution_count": 11,
   "metadata": {},
   "outputs": [],
   "source": [
    "optimizer = optim.Adam(resnet.parameters(), lr=0.00001)\n",
    "scheduler = MultiStepLR(optimizer, [20, 21])"
   ]
  },
  {
   "cell_type": "code",
   "execution_count": 12,
   "metadata": {},
   "outputs": [],
   "source": [
    "loss_fn = torch.nn.BCEWithLogitsLoss()\n",
    "metrics = {\n",
    "    'acc': training.accuracy\n",
    "} "
   ]
  },
  {
   "cell_type": "code",
   "execution_count": 13,
   "metadata": {},
   "outputs": [
    {
     "name": "stdout",
     "output_type": "stream",
     "text": [
      "\n",
      "\n",
      "Initial\n",
      "----------\n",
      "Valid |   156/156  | loss:    0.2396 | acc:    0.9113   \n",
      "\n",
      "Epoch 1/32\n",
      "----------\n",
      "Train |  1422/1422 | loss:    0.2368 | acc:    0.9110   \n",
      "Valid |     5/5    | loss:    0.1937 | acc:    0.9210   \n",
      "Test set Accuracy Lowest Validation Loss:\n",
      "Valid |   156/156  | loss:    0.2186 | acc:    0.9118   \n",
      "\n",
      "Epoch 2/32\n",
      "----------\n",
      "Train |  1422/1422 | loss:    0.2068 | acc:    0.9156   \n",
      "Valid |     5/5    | loss:    0.1874 | acc:    0.9226   \n",
      "Test set Accuracy Lowest Validation Loss:\n",
      "Valid |   156/156  | loss:    0.2084 | acc:    0.9131   \n",
      "\n",
      "Epoch 3/32\n",
      "----------\n",
      "Train |  1422/1422 | loss:    0.1976 | acc:    0.9168   \n",
      "Valid |     5/5    | loss:    0.1827 | acc:    0.9239   \n",
      "Test set Accuracy Lowest Validation Loss:\n",
      "Valid |   156/156  | loss:    0.2018 | acc:    0.9139   \n",
      "\n",
      "Epoch 4/32\n",
      "----------\n",
      "Train |  1422/1422 | loss:    0.1921 | acc:    0.9180   \n",
      "Valid |     5/5    | loss:    0.1782 | acc:    0.9248   \n",
      "Test set Accuracy Lowest Validation Loss:\n",
      "Valid |   156/156  | loss:    0.1991 | acc:    0.9136   \n",
      "\n",
      "Epoch 5/32\n",
      "----------\n",
      "Train |  1422/1422 | loss:    0.1883 | acc:    0.9190   \n",
      "Valid |     5/5    | loss:    0.1783 | acc:    0.9246   \n",
      "\n",
      "Epoch 6/32\n",
      "----------\n",
      "Train |  1422/1422 | loss:    0.1855 | acc:    0.9200   \n",
      "Valid |     5/5    | loss:    0.1780 | acc:    0.9243   \n",
      "Test set Accuracy Lowest Validation Loss:\n",
      "Valid |   156/156  | loss:    0.1971 | acc:    0.9141   \n",
      "\n",
      "Epoch 7/32\n",
      "----------\n",
      "Train |  1422/1422 | loss:    0.1827 | acc:    0.9208   \n",
      "Valid |     5/5    | loss:    0.1785 | acc:    0.9249   \n",
      "\n",
      "Epoch 8/32\n",
      "----------\n",
      "Train |     8/1422 | loss:    0.1805 | acc:    0.9214   "
     ]
    },
    {
     "name": "stderr",
     "output_type": "stream",
     "text": [
      "Exception ignored in: <bound method _MultiProcessingDataLoaderIter.__del__ of <torch.utils.data.dataloader._MultiProcessingDataLoaderIter object at 0x7f11c9017160>>\n",
      "Traceback (most recent call last):\n",
      "  File \"/home/mehmetyavuz/.local/lib/python3.6/site-packages/torch/utils/data/dataloader.py\", line 1324, in __del__\n",
      "    self._shutdown_workers()\n",
      "  File \"/home/mehmetyavuz/.local/lib/python3.6/site-packages/torch/utils/data/dataloader.py\", line 1297, in _shutdown_workers\n",
      "    w.join(timeout=_utils.MP_STATUS_CHECK_INTERVAL)\n",
      "  File \"/usr/lib/python3.6/multiprocessing/process.py\", line 124, in join\n",
      "    res = self._popen.wait(timeout)\n",
      "  File \"/usr/lib/python3.6/multiprocessing/popen_fork.py\", line 47, in wait\n",
      "    if not wait([self.sentinel], timeout):\n",
      "  File \"/usr/lib/python3.6/multiprocessing/connection.py\", line 911, in wait\n",
      "    ready = selector.select(timeout)\n",
      "  File \"/usr/lib/python3.6/selectors.py\", line 376, in select\n",
      "    fd_event_list = self._poll.poll(timeout)\n",
      "KeyboardInterrupt: \n"
     ]
    },
    {
     "ename": "KeyboardInterrupt",
     "evalue": "",
     "output_type": "error",
     "traceback": [
      "\u001b[0;31m---------------------------------------------------------------------------\u001b[0m",
      "\u001b[0;31mKeyboardInterrupt\u001b[0m                         Traceback (most recent call last)",
      "\u001b[0;32m<ipython-input-13-10fdacac08a4>\u001b[0m in \u001b[0;36m<module>\u001b[0;34m\u001b[0m\n\u001b[1;32m     16\u001b[0m     training.pass_epoch(\n\u001b[1;32m     17\u001b[0m         \u001b[0mresnet\u001b[0m\u001b[0;34m,\u001b[0m \u001b[0mloss_fn\u001b[0m\u001b[0;34m,\u001b[0m \u001b[0mtrain_loader\u001b[0m\u001b[0;34m,\u001b[0m \u001b[0moptimizer\u001b[0m\u001b[0;34m,\u001b[0m \u001b[0mscheduler\u001b[0m\u001b[0;34m,\u001b[0m\u001b[0;34m\u001b[0m\u001b[0;34m\u001b[0m\u001b[0m\n\u001b[0;32m---> 18\u001b[0;31m         \u001b[0mbatch_metrics\u001b[0m\u001b[0;34m=\u001b[0m\u001b[0mmetrics\u001b[0m\u001b[0;34m,\u001b[0m \u001b[0mshow_running\u001b[0m\u001b[0;34m=\u001b[0m\u001b[0;32mTrue\u001b[0m\u001b[0;34m,\u001b[0m \u001b[0mdevice\u001b[0m\u001b[0;34m=\u001b[0m\u001b[0mdevice\u001b[0m\u001b[0;34m,\u001b[0m\u001b[0;34m\u001b[0m\u001b[0;34m\u001b[0m\u001b[0m\n\u001b[0m\u001b[1;32m     19\u001b[0m         \u001b[0;31m#writer=writer\u001b[0m\u001b[0;34m\u001b[0m\u001b[0;34m\u001b[0m\u001b[0;34m\u001b[0m\u001b[0m\n\u001b[1;32m     20\u001b[0m     )\n",
      "\u001b[0;32m~/.local/lib/python3.6/site-packages/facenet_pytorch/models/utils/training.py\u001b[0m in \u001b[0;36mpass_epoch\u001b[0;34m(model, loss_fn, loader, optimizer, scheduler, batch_metrics, show_running, device, writer)\u001b[0m\n\u001b[1;32m    100\u001b[0m         \u001b[0;32mif\u001b[0m \u001b[0mmodel\u001b[0m\u001b[0;34m.\u001b[0m\u001b[0mtraining\u001b[0m\u001b[0;34m:\u001b[0m\u001b[0;34m\u001b[0m\u001b[0;34m\u001b[0m\u001b[0m\n\u001b[1;32m    101\u001b[0m             \u001b[0mloss_batch\u001b[0m\u001b[0;34m.\u001b[0m\u001b[0mbackward\u001b[0m\u001b[0;34m(\u001b[0m\u001b[0;34m)\u001b[0m\u001b[0;34m\u001b[0m\u001b[0;34m\u001b[0m\u001b[0m\n\u001b[0;32m--> 102\u001b[0;31m             \u001b[0moptimizer\u001b[0m\u001b[0;34m.\u001b[0m\u001b[0mstep\u001b[0m\u001b[0;34m(\u001b[0m\u001b[0;34m)\u001b[0m\u001b[0;34m\u001b[0m\u001b[0;34m\u001b[0m\u001b[0m\n\u001b[0m\u001b[1;32m    103\u001b[0m             \u001b[0moptimizer\u001b[0m\u001b[0;34m.\u001b[0m\u001b[0mzero_grad\u001b[0m\u001b[0;34m(\u001b[0m\u001b[0;34m)\u001b[0m\u001b[0;34m\u001b[0m\u001b[0;34m\u001b[0m\u001b[0m\n\u001b[1;32m    104\u001b[0m \u001b[0;34m\u001b[0m\u001b[0m\n",
      "\u001b[0;32m~/.local/lib/python3.6/site-packages/torch/optim/lr_scheduler.py\u001b[0m in \u001b[0;36mwrapper\u001b[0;34m(*args, **kwargs)\u001b[0m\n\u001b[1;32m     63\u001b[0m                 \u001b[0minstance\u001b[0m\u001b[0;34m.\u001b[0m\u001b[0m_step_count\u001b[0m \u001b[0;34m+=\u001b[0m \u001b[0;36m1\u001b[0m\u001b[0;34m\u001b[0m\u001b[0;34m\u001b[0m\u001b[0m\n\u001b[1;32m     64\u001b[0m                 \u001b[0mwrapped\u001b[0m \u001b[0;34m=\u001b[0m \u001b[0mfunc\u001b[0m\u001b[0;34m.\u001b[0m\u001b[0m__get__\u001b[0m\u001b[0;34m(\u001b[0m\u001b[0minstance\u001b[0m\u001b[0;34m,\u001b[0m \u001b[0mcls\u001b[0m\u001b[0;34m)\u001b[0m\u001b[0;34m\u001b[0m\u001b[0;34m\u001b[0m\u001b[0m\n\u001b[0;32m---> 65\u001b[0;31m                 \u001b[0;32mreturn\u001b[0m \u001b[0mwrapped\u001b[0m\u001b[0;34m(\u001b[0m\u001b[0;34m*\u001b[0m\u001b[0margs\u001b[0m\u001b[0;34m,\u001b[0m \u001b[0;34m**\u001b[0m\u001b[0mkwargs\u001b[0m\u001b[0;34m)\u001b[0m\u001b[0;34m\u001b[0m\u001b[0;34m\u001b[0m\u001b[0m\n\u001b[0m\u001b[1;32m     66\u001b[0m \u001b[0;34m\u001b[0m\u001b[0m\n\u001b[1;32m     67\u001b[0m             \u001b[0;31m# Note that the returned function here is no longer a bound method,\u001b[0m\u001b[0;34m\u001b[0m\u001b[0;34m\u001b[0m\u001b[0;34m\u001b[0m\u001b[0m\n",
      "\u001b[0;32m~/.local/lib/python3.6/site-packages/torch/optim/optimizer.py\u001b[0m in \u001b[0;36mwrapper\u001b[0;34m(*args, **kwargs)\u001b[0m\n\u001b[1;32m     87\u001b[0m                 \u001b[0mprofile_name\u001b[0m \u001b[0;34m=\u001b[0m \u001b[0;34m\"Optimizer.step#{}.step\"\u001b[0m\u001b[0;34m.\u001b[0m\u001b[0mformat\u001b[0m\u001b[0;34m(\u001b[0m\u001b[0mobj\u001b[0m\u001b[0;34m.\u001b[0m\u001b[0m__class__\u001b[0m\u001b[0;34m.\u001b[0m\u001b[0m__name__\u001b[0m\u001b[0;34m)\u001b[0m\u001b[0;34m\u001b[0m\u001b[0;34m\u001b[0m\u001b[0m\n\u001b[1;32m     88\u001b[0m                 \u001b[0;32mwith\u001b[0m \u001b[0mtorch\u001b[0m\u001b[0;34m.\u001b[0m\u001b[0mautograd\u001b[0m\u001b[0;34m.\u001b[0m\u001b[0mprofiler\u001b[0m\u001b[0;34m.\u001b[0m\u001b[0mrecord_function\u001b[0m\u001b[0;34m(\u001b[0m\u001b[0mprofile_name\u001b[0m\u001b[0;34m)\u001b[0m\u001b[0;34m:\u001b[0m\u001b[0;34m\u001b[0m\u001b[0;34m\u001b[0m\u001b[0m\n\u001b[0;32m---> 89\u001b[0;31m                     \u001b[0;32mreturn\u001b[0m \u001b[0mfunc\u001b[0m\u001b[0;34m(\u001b[0m\u001b[0;34m*\u001b[0m\u001b[0margs\u001b[0m\u001b[0;34m,\u001b[0m \u001b[0;34m**\u001b[0m\u001b[0mkwargs\u001b[0m\u001b[0;34m)\u001b[0m\u001b[0;34m\u001b[0m\u001b[0;34m\u001b[0m\u001b[0m\n\u001b[0m\u001b[1;32m     90\u001b[0m             \u001b[0;32mreturn\u001b[0m \u001b[0mwrapper\u001b[0m\u001b[0;34m\u001b[0m\u001b[0;34m\u001b[0m\u001b[0m\n\u001b[1;32m     91\u001b[0m \u001b[0;34m\u001b[0m\u001b[0m\n",
      "\u001b[0;32m~/.local/lib/python3.6/site-packages/torch/autograd/grad_mode.py\u001b[0m in \u001b[0;36mdecorate_context\u001b[0;34m(*args, **kwargs)\u001b[0m\n\u001b[1;32m     25\u001b[0m         \u001b[0;32mdef\u001b[0m \u001b[0mdecorate_context\u001b[0m\u001b[0;34m(\u001b[0m\u001b[0;34m*\u001b[0m\u001b[0margs\u001b[0m\u001b[0;34m,\u001b[0m \u001b[0;34m**\u001b[0m\u001b[0mkwargs\u001b[0m\u001b[0;34m)\u001b[0m\u001b[0;34m:\u001b[0m\u001b[0;34m\u001b[0m\u001b[0;34m\u001b[0m\u001b[0m\n\u001b[1;32m     26\u001b[0m             \u001b[0;32mwith\u001b[0m \u001b[0mself\u001b[0m\u001b[0;34m.\u001b[0m\u001b[0m__class__\u001b[0m\u001b[0;34m(\u001b[0m\u001b[0;34m)\u001b[0m\u001b[0;34m:\u001b[0m\u001b[0;34m\u001b[0m\u001b[0;34m\u001b[0m\u001b[0m\n\u001b[0;32m---> 27\u001b[0;31m                 \u001b[0;32mreturn\u001b[0m \u001b[0mfunc\u001b[0m\u001b[0;34m(\u001b[0m\u001b[0;34m*\u001b[0m\u001b[0margs\u001b[0m\u001b[0;34m,\u001b[0m \u001b[0;34m**\u001b[0m\u001b[0mkwargs\u001b[0m\u001b[0;34m)\u001b[0m\u001b[0;34m\u001b[0m\u001b[0;34m\u001b[0m\u001b[0m\n\u001b[0m\u001b[1;32m     28\u001b[0m         \u001b[0;32mreturn\u001b[0m \u001b[0mcast\u001b[0m\u001b[0;34m(\u001b[0m\u001b[0mF\u001b[0m\u001b[0;34m,\u001b[0m \u001b[0mdecorate_context\u001b[0m\u001b[0;34m)\u001b[0m\u001b[0;34m\u001b[0m\u001b[0;34m\u001b[0m\u001b[0m\n\u001b[1;32m     29\u001b[0m \u001b[0;34m\u001b[0m\u001b[0m\n",
      "\u001b[0;32m~/.local/lib/python3.6/site-packages/torch/optim/adam.py\u001b[0m in \u001b[0;36mstep\u001b[0;34m(self, closure)\u001b[0m\n\u001b[1;32m     77\u001b[0m             \u001b[0;32mfor\u001b[0m \u001b[0mp\u001b[0m \u001b[0;32min\u001b[0m \u001b[0mgroup\u001b[0m\u001b[0;34m[\u001b[0m\u001b[0;34m'params'\u001b[0m\u001b[0;34m]\u001b[0m\u001b[0;34m:\u001b[0m\u001b[0;34m\u001b[0m\u001b[0;34m\u001b[0m\u001b[0m\n\u001b[1;32m     78\u001b[0m                 \u001b[0;32mif\u001b[0m \u001b[0mp\u001b[0m\u001b[0;34m.\u001b[0m\u001b[0mgrad\u001b[0m \u001b[0;32mis\u001b[0m \u001b[0;32mnot\u001b[0m \u001b[0;32mNone\u001b[0m\u001b[0;34m:\u001b[0m\u001b[0;34m\u001b[0m\u001b[0;34m\u001b[0m\u001b[0m\n\u001b[0;32m---> 79\u001b[0;31m                     \u001b[0mparams_with_grad\u001b[0m\u001b[0;34m.\u001b[0m\u001b[0mappend\u001b[0m\u001b[0;34m(\u001b[0m\u001b[0mp\u001b[0m\u001b[0;34m)\u001b[0m\u001b[0;34m\u001b[0m\u001b[0;34m\u001b[0m\u001b[0m\n\u001b[0m\u001b[1;32m     80\u001b[0m                     \u001b[0;32mif\u001b[0m \u001b[0mp\u001b[0m\u001b[0;34m.\u001b[0m\u001b[0mgrad\u001b[0m\u001b[0;34m.\u001b[0m\u001b[0mis_sparse\u001b[0m\u001b[0;34m:\u001b[0m\u001b[0;34m\u001b[0m\u001b[0;34m\u001b[0m\u001b[0m\n\u001b[1;32m     81\u001b[0m                         \u001b[0;32mraise\u001b[0m \u001b[0mRuntimeError\u001b[0m\u001b[0;34m(\u001b[0m\u001b[0;34m'Adam does not support sparse gradients, please consider SparseAdam instead'\u001b[0m\u001b[0;34m)\u001b[0m\u001b[0;34m\u001b[0m\u001b[0;34m\u001b[0m\u001b[0m\n",
      "\u001b[0;31mKeyboardInterrupt\u001b[0m: "
     ]
    }
   ],
   "source": [
    "print('\\n\\nInitial')\n",
    "print('-' * 10)\n",
    "resnet.eval()\n",
    "training.pass_epoch(\n",
    "    resnet, loss_fn, test_loader,\n",
    "    batch_metrics=metrics, show_running=True, device=device,\n",
    "    #writer=writer\n",
    ")\n",
    "\n",
    "val_loss = 1\n",
    "for epoch in range(epochs):\n",
    "    print('\\nEpoch {}/{}'.format(epoch + 1, epochs))\n",
    "    print('-' * 10)\n",
    "\n",
    "    resnet.train()\n",
    "    training.pass_epoch(\n",
    "        resnet, loss_fn, train_loader, optimizer, scheduler,\n",
    "        batch_metrics=metrics, show_running=True, device=device,\n",
    "        #writer=writer\n",
    "    )\n",
    "\n",
    "    resnet.eval()\n",
    "    val_metrics = training.pass_epoch(\n",
    "        resnet, loss_fn, val_loader,\n",
    "        batch_metrics=metrics, show_running=True, device=device,\n",
    "        #writer=writer\n",
    "    )\n",
    "    \n",
    "    if val_metrics[0].item() < val_loss:\n",
    "        val_loss = val_metrics[0].item()\n",
    "        print('Test set Accuracy Lowest Validation Loss:')\n",
    "        training.pass_epoch(\n",
    "            resnet, loss_fn, test_loader,\n",
    "            batch_metrics=metrics, show_running=True, device=device,\n",
    "            #writer=writer\n",
    "        )\n",
    "        torch.save(resnet.state_dict(), \"resnet_fe_resnet50_feature_outlier*.pth\")"
   ]
  },
  {
   "cell_type": "code",
   "execution_count": 14,
   "metadata": {},
   "outputs": [
    {
     "data": {
      "text/plain": [
       "<All keys matched successfully>"
      ]
     },
     "execution_count": 14,
     "metadata": {},
     "output_type": "execute_result"
    }
   ],
   "source": [
    "resnet.load_state_dict(torch.load(\"resnet_fe_resnet50_feature_outlier*.pth\", map_location=device))"
   ]
  },
  {
   "cell_type": "code",
   "execution_count": 15,
   "metadata": {},
   "outputs": [],
   "source": [
    "resnet.eval()\n",
    "counter = 0\n",
    "for i, batch in enumerate(test_loader):\n",
    "    if i == 0:\n",
    "        y_pred = (nn.Sigmoid()(resnet(batch[0].to(device)))).detach().cpu().numpy()\n",
    "        label = batch[1]\n",
    "    else:\n",
    "        y_pred = np.concatenate((y_pred,nn.Sigmoid()(resnet(batch[0].to(device))).cpu().detach().numpy()),0)\n",
    "        label = np.concatenate((label,batch[1]),0)"
   ]
  },
  {
   "cell_type": "code",
   "execution_count": 16,
   "metadata": {},
   "outputs": [
    {
     "name": "stdout",
     "output_type": "stream",
     "text": [
      "5_o_Clock_Shadow  0.9742\n",
      "Arched_Eyebrows  0.9097\n",
      "     Attractive  0.9188\n",
      "Bags_Under_Eyes  0.8977\n",
      "           Bald  0.9953\n",
      "          Bangs  0.9894\n",
      "       Big_Lips  0.7474\n",
      "       Big_Nose  0.8849\n",
      "     Black_Hair  0.9614\n",
      "     Blond_Hair  0.9848\n",
      "         Blurry  0.9528\n",
      "     Brown_Hair  0.9353\n",
      " Bushy_Eyebrows  0.9512\n",
      "         Chubby  0.9577\n",
      "    Double_Chin  0.9593\n",
      "     Eyeglasses  0.9968\n",
      "         Goatee  0.9899\n",
      "      Gray_Hair  0.9899\n",
      "   Heavy_Makeup  0.9774\n",
      "High_Cheekbones  0.9513\n",
      "           Male  0.9987\n",
      "Mouth_Slightly_Open  0.9859\n",
      "       Mustache  0.9811\n",
      "    Narrow_Eyes  0.8676\n",
      "       No_Beard  0.9885\n",
      "      Oval_Face  0.7540\n",
      "      Pale_Skin  0.9732\n",
      "    Pointy_Nose  0.8188\n",
      "Receding_Hairline  0.9543\n",
      "    Rosy_Cheeks  0.9593\n",
      "      Sideburns  0.9901\n",
      "        Smiling  0.9833\n",
      "  Straight_Hair  0.8779\n",
      "      Wavy_Hair  0.9232\n",
      "Wearing_Earrings  0.9461\n",
      "    Wearing_Hat  0.9947\n",
      "Wearing_Lipstick  0.9889\n",
      "Wearing_Necklace  0.8195\n",
      "Wearing_Necktie  0.9805\n",
      "          Young  0.9340\n",
      "       Average:  0.9411\n"
     ]
    }
   ],
   "source": [
    "s = 0\n",
    "for i in range(len(attrs_default)):\n",
    "    average_precision = roc_auc_score(label[:,i], y_pred[:,i])\n",
    "    line_new = '{:>15}  {:.4f}'.format(attrs_default[i], average_precision)\n",
    "    s += average_precision\n",
    "    print(line_new)\n",
    "line_new = '{:>15}  {:.4f}'.format(\"Average:\", s/40)\n",
    "print(line_new)"
   ]
  },
  {
   "cell_type": "markdown",
   "metadata": {},
   "source": [
    "### Linear Labeling"
   ]
  },
  {
   "cell_type": "raw",
   "metadata": {},
   "source": [
    "# Number of workers for dataloader\n",
    "workers = 8\n",
    "\n",
    "# Batch size during training\n",
    "batch_size = 1\n",
    "\n",
    "# Spatial size of training images. All images will be resized to this\n",
    "#   size using a transformer.\n",
    "image_size = (128,128)\n",
    "epochs = 30"
   ]
  },
  {
   "cell_type": "raw",
   "metadata": {},
   "source": [
    "if os.path.exists(attr_root_extra):\n",
    "    os.remove(attr_root_extra)"
   ]
  },
  {
   "cell_type": "raw",
   "metadata": {},
   "source": [
    "dataset = Augmentation(data_path, image_size)\n",
    "test_loader = torch.utils.data.DataLoader(dataset,\n",
    "                                          batch_size=batch_size,\n",
    "                                          shuffle=False,\n",
    "                                          num_workers=workers)"
   ]
  },
  {
   "cell_type": "raw",
   "metadata": {},
   "source": [
    "device = torch.device(\"cuda:0\")"
   ]
  },
  {
   "cell_type": "raw",
   "metadata": {},
   "source": [
    "resnet = InceptionResnetV1_fe(\n",
    "    classify=True,\n",
    "    pretrained='vggface2',\n",
    "    num_classes=40\n",
    ").to(device)"
   ]
  },
  {
   "cell_type": "raw",
   "metadata": {},
   "source": [
    "resnet = nn.DataParallel(resnet)"
   ]
  },
  {
   "cell_type": "raw",
   "metadata": {},
   "source": [
    "resnet.load_state_dict(torch.load(\"resnet_fe_0*.pth\", map_location=device))"
   ]
  },
  {
   "cell_type": "raw",
   "metadata": {},
   "source": [
    "if os.path.exists(attr_root_extra):\n",
    "    os.remove(attr_root_extra)"
   ]
  },
  {
   "cell_type": "raw",
   "metadata": {},
   "source": [
    "resnet.eval()\n",
    "file_to_write = open(attr_root_extra,\"a\")\n",
    "file_name = np.genfromtxt(data_path, skip_header=0, usecols=[0], delimiter=\"\\n\", dtype=np.str)\n",
    "with tqdm.tqdm(total=len(file_name)) as pbar:\n",
    "    for (i, batch) in enumerate(test_loader):\n",
    "        pbar.update(1)\n",
    "        batch = torch.squeeze(batch,0).to(device)\n",
    "        label = torch.mean(nn.Sigmoid()(resnet(batch)),0)*2-1\n",
    "        if torch.norm(label) < 5.5:\n",
    "            continue\n",
    "        label = '\\t'.join(list(label.cpu().detach().numpy().astype(str)))\n",
    "        file_to_write.write(file_name[i]+'\\t'+label+\"\\n\")\n",
    "file_to_write.close() "
   ]
  },
  {
   "cell_type": "raw",
   "metadata": {},
   "source": []
  },
  {
   "cell_type": "raw",
   "metadata": {},
   "source": []
  }
 ],
 "metadata": {
  "colab": {
   "collapsed_sections": [],
   "name": "AE.ipynb",
   "provenance": []
  },
  "kernelspec": {
   "display_name": "Python 3",
   "language": "python",
   "name": "python3"
  },
  "language_info": {
   "codemirror_mode": {
    "name": "ipython",
    "version": 3
   },
   "file_extension": ".py",
   "mimetype": "text/x-python",
   "name": "python",
   "nbconvert_exporter": "python",
   "pygments_lexer": "ipython3",
   "version": "3.6.9"
  }
 },
 "nbformat": 4,
 "nbformat_minor": 4
}
