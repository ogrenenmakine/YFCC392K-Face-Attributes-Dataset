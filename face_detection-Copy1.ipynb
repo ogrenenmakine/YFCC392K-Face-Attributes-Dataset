{
 "cells": [
  {
   "cell_type": "code",
   "execution_count": null,
   "metadata": {},
   "outputs": [],
   "source": [
    "import os\n",
    "import face_recognition\n",
    "from PIL import Image\n",
    "import IPython.display\n",
    "import pandas as pd"
   ]
  },
  {
   "cell_type": "code",
   "execution_count": null,
   "metadata": {},
   "outputs": [],
   "source": [
    "from os import path\n",
    "file1 = open('list_raw_faces.txt', 'r')\n",
    "Lines = file1.readlines()"
   ]
  },
  {
   "cell_type": "code",
   "execution_count": null,
   "metadata": {},
   "outputs": [],
   "source": [
    "df = pd.read_csv('yfcc100m_links.txt', delimiter='\\t',header=None,index_col=0)"
   ]
  },
  {
   "cell_type": "code",
   "execution_count": null,
   "metadata": {},
   "outputs": [],
   "source": [
    "f = open(\"shared.txt\", \"a\")\n",
    "for line in Lines:\n",
    "    path = \"/archive/projects/\" + line.split(\"\\t\")[1]\n",
    "    image = face_recognition.load_image_file(path)\n",
    "    face_locations = face_recognition.face_locations(image)\n",
    "    c = 0\n",
    "    folder = path.split(\"/\")[-2]\n",
    "    file_name = path.split(\"/\")[-1]\n",
    "    ID = int(file_name.split('_')[0][2:])\n",
    "    link = df.loc[ID][1]\n",
    "    ctg = df.loc[ID][2]\n",
    "    for fl in face_locations:\n",
    "        top, right, bottom, left = fl\n",
    "        im_cut = image[top-int(0.5*abs(top-bottom)):bottom+int(0.5*abs(top-bottom)),left-int(0.5*abs(top-bottom)):right+int(0.5*abs(top-bottom)),:]\n",
    "        if im_cut.shape[0] < 128 or im_cut.shape[1] < 128:\n",
    "            continue\n",
    "        folder = \"datasets/\" + path.split(\"/\")[-2]\n",
    "        try:\n",
    "            os.makedirs(folder)\n",
    "        except OSError as e:\n",
    "            pass\n",
    "        new_path = folder + \"/\" + file_name[:-4] + \"_\" + str(c) + \".jpg\"\n",
    "        im = Image.fromarray(im_cut)\n",
    "        im = im.resize((128, 128), Image.ANTIALIAS)\n",
    "        im.save(new_path)\n",
    "        f.write(str(ID)+\"\\t\"+link+\"\\t\"+ctg+\"\\t\"+str(top)+\"\\t\"+str(right)+\"\\t\"+str(bottom)+\"\\t\"+str(left)+\"\\n\")\n",
    "        c += 1\n",
    "f.close()"
   ]
  },
  {
   "cell_type": "code",
   "execution_count": null,
   "metadata": {},
   "outputs": [],
   "source": []
  }
 ],
 "metadata": {
  "kernelspec": {
   "display_name": "Python 3",
   "language": "python",
   "name": "python3"
  },
  "language_info": {
   "codemirror_mode": {
    "name": "ipython",
    "version": 3
   },
   "file_extension": ".py",
   "mimetype": "text/x-python",
   "name": "python",
   "nbconvert_exporter": "python",
   "pygments_lexer": "ipython3",
   "version": "3.6.9"
  }
 },
 "nbformat": 4,
 "nbformat_minor": 4
}
