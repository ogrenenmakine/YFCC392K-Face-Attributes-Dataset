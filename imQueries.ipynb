{
 "cells": [
  {
   "cell_type": "code",
   "execution_count": 1,
   "metadata": {
    "executionInfo": {
     "elapsed": 3647,
     "status": "ok",
     "timestamp": 1606807241218,
     "user": {
      "displayName": "Mehmet Can Yavuz",
      "photoUrl": "https://lh3.googleusercontent.com/a-/AOh14GgZmslRmKxKDOPjB9gu0o-mNrVW1uJvYNaPqWNnKA=s64",
      "userId": "05304319935596570603"
     },
     "user_tz": -180
    },
    "id": "HVXC8fJW3PE1"
   },
   "outputs": [],
   "source": [
    "import requests\n",
    "import time\n",
    "import random\n",
    "import nltk\n",
    "from bs4 import BeautifulSoup\n",
    "import numpy as np\n",
    "from wiktionaryparser import WiktionaryParser\n",
    "import gensim\n",
    "from serpapi import GoogleSearch\n",
    "import os\n",
    "import urllib"
   ]
  },
  {
   "cell_type": "code",
   "execution_count": 2,
   "metadata": {
    "colab": {
     "base_uri": "https://localhost:8080/"
    },
    "executionInfo": {
     "elapsed": 8200,
     "status": "ok",
     "timestamp": 1606807370626,
     "user": {
      "displayName": "Mehmet Can Yavuz",
      "photoUrl": "https://lh3.googleusercontent.com/a-/AOh14GgZmslRmKxKDOPjB9gu0o-mNrVW1uJvYNaPqWNnKA=s64",
      "userId": "05304319935596570603"
     },
     "user_tz": -180
    },
    "id": "ojjwz7NrxcJr",
    "outputId": "59245d96-163e-429c-90fe-0ecdc17e9f65"
   },
   "outputs": [],
   "source": [
    "parser = WiktionaryParser()"
   ]
  },
  {
   "cell_type": "code",
   "execution_count": 3,
   "metadata": {
    "executionInfo": {
     "elapsed": 7499,
     "status": "ok",
     "timestamp": 1606807245680,
     "user": {
      "displayName": "Mehmet Can Yavuz",
      "photoUrl": "https://lh3.googleusercontent.com/a-/AOh14GgZmslRmKxKDOPjB9gu0o-mNrVW1uJvYNaPqWNnKA=s64",
      "userId": "05304319935596570603"
     },
     "user_tz": -180
    },
    "id": "hQtKsJ1h1PkD"
   },
   "outputs": [],
   "source": [
    "attrs_default = [\"five_o_clock_Shadow\", \"Arched_Eyebrows\", \"Attractive\", \"Bags_Under_Eyes\", \"Bald\", \"Bangs\", \"Big_Lips\", \"Big_Nose\", \"Black_Hair\", \"Blond_Hair\", \"Blurry\", \"Brown_Hair\", \"Bushy_Eyebrows\", \"Chubby\", \"Double_Chin\", \"Eyeglasses\", \"Goatee\", \"Gray_Hair\", \"Heavy_Makeup\", \"High_Cheekbones\", \"Male\", \"Mouth_Slightly_Open\", \"Mustache\", \"Narrow_Eyes\", \"No_Beard\", \"Oval_Face\", \"Pale_Skin\", \"Pointy_Nose\", \"Receding_Hairline\", \"Rosy_Cheeks\", \"Sideburns\", \"Smiling\", \"Straight_Hair\", \"Wavy_Hair\", \"Wearing_Earrings\", \"Wearing_Hat\", \"Wearing_Lipstick\", \"Wearing_Necklace\", \"Wearing_Necktie\", \"Young\"]"
   ]
  },
  {
   "cell_type": "code",
   "execution_count": 4,
   "metadata": {
    "executionInfo": {
     "elapsed": 7310,
     "status": "ok",
     "timestamp": 1606807245681,
     "user": {
      "displayName": "Mehmet Can Yavuz",
      "photoUrl": "https://lh3.googleusercontent.com/a-/AOh14GgZmslRmKxKDOPjB9gu0o-mNrVW1uJvYNaPqWNnKA=s64",
      "userId": "05304319935596570603"
     },
     "user_tz": -180
    },
    "id": "6yWNuH16JoTv"
   },
   "outputs": [],
   "source": [
    "def searchAntonym(word):\n",
    "  antonym = []\n",
    "  URL = 'http://conceptnet.io/c/en/'+word\n",
    "  page = requests.get(URL)\n",
    "  soup = BeautifulSoup(page.content, 'html.parser')\n",
    "  job_elems = soup.find_all(class_='edge-link')\n",
    "  for je in job_elems:\n",
    "    word = je['href']\n",
    "    if 'Antonym' in word:\n",
    "      antonym.append(word)\n",
    "      break \n",
    "  return antonym"
   ]
  },
  {
   "cell_type": "code",
   "execution_count": 5,
   "metadata": {
    "executionInfo": {
     "elapsed": 7141,
     "status": "ok",
     "timestamp": 1606807245681,
     "user": {
      "displayName": "Mehmet Can Yavuz",
      "photoUrl": "https://lh3.googleusercontent.com/a-/AOh14GgZmslRmKxKDOPjB9gu0o-mNrVW1uJvYNaPqWNnKA=s64",
      "userId": "05304319935596570603"
     },
     "user_tz": -180
    },
    "id": "JyQmQAIQIexR"
   },
   "outputs": [],
   "source": [
    "def syn_ant(item):\n",
    "    tokenized = nltk.word_tokenize(item)\n",
    "    tagged = nltk.pos_tag(tokenized)\n",
    "    check = True\n",
    "    synonym = [t[0] for t in tagged]\n",
    "    for t in tagged:\n",
    "      pos = parser.fetch(t[0])[0]['definitions'][0]['partOfSpeech']\n",
    "      if 'adjective' in pos:\n",
    "        if searchAntonym(t[0]) != []:\n",
    "          sant = searchAntonym(t[0])[0].split(',')\n",
    "          antonym = sant[[not ((t[0] == sa) or ('Antonym' == sa)) for sa in [max([s for s in st.split('/')], key=len) for st in sant]].index(True)]\n",
    "          tagged = [t[0] for t in tagged]\n",
    "          tagged[tagged.index(t[0])] = max([s for s in antonym.split('/')], key=len)\n",
    "          antonym = tagged\n",
    "        else:\n",
    "          antonym = []\n",
    "        check = False\n",
    "      else:\n",
    "        pass\n",
    "    if check:\n",
    "      antonym = []\n",
    "    return synonym, antonym"
   ]
  },
  {
   "cell_type": "code",
   "execution_count": 6,
   "metadata": {
    "executionInfo": {
     "elapsed": 4117,
     "status": "ok",
     "timestamp": 1606808228718,
     "user": {
      "displayName": "Mehmet Can Yavuz",
      "photoUrl": "https://lh3.googleusercontent.com/a-/AOh14GgZmslRmKxKDOPjB9gu0o-mNrVW1uJvYNaPqWNnKA=s64",
      "userId": "05304319935596570603"
     },
     "user_tz": -180
    },
    "id": "h0dCh6DwwdIF"
   },
   "outputs": [
    {
     "name": "stdout",
     "output_type": "stream",
     "text": [
      "five o clock shadow face\t+\n",
      "arched eyebrows face\t+\n",
      "attractive face\t+\n",
      "unattractive face\t-\n",
      "bags under eyes face\t+\n",
      "bald face\t+\n",
      "faxed face\t-\n",
      "bangs face\t+\n",
      "big lips face\t+\n",
      "little lips face\t-\n",
      "big nose face\t+\n",
      "little nose face\t-\n",
      "black hair face\t+\n",
      "white hair face\t-\n",
      "blond hair face\t+\n",
      "blurry face\t+\n",
      "clear face\t-\n",
      "brown hair face\t+\n",
      "bushy eyebrows face\t+\n",
      "chubby face\t+\n",
      "double chin face\t+\n",
      "single chin face\t-\n",
      "eyeglasses face\t+\n",
      "goatee face\t+\n",
      "gray hair face\t+\n",
      "colorful hair face\t-\n",
      "heavy makeup face\t+\n",
      "light makeup face\t-\n",
      "high cheekbones face\t+\n",
      "low cheekbones face\t-\n",
      "male face\t+\n",
      "female face\t-\n",
      "mouth slightly open face\t+\n",
      "mouth slightly closed face\t-\n",
      "mustache face\t+\n",
      "narrow eyes face\t+\n",
      "wide eyes face\t-\n",
      "no beard face\t+\n",
      "oval face face\t+\n",
      "pale skin face\t+\n",
      "dark skin face\t-\n",
      "pointy nose face\t+\n",
      "receding hairline face\t+\n",
      "rosy cheeks face\t+\n",
      "sideburns face\t+\n",
      "smiling face\t+\n",
      "unsmiling face\t-\n",
      "straight hair face\t+\n",
      "turn hair face\t-\n",
      "wavy hair face\t+\n",
      "wearing earrings face\t+\n",
      "wearing hat face\t+\n",
      "wearing lipstick face\t+\n",
      "wearing necklace face\t+\n",
      "wearing necktie face\t+\n",
      "young face\t+\n",
      "old face\t-\n"
     ]
    }
   ],
   "source": [
    "for item in attrs_default:\n",
    "    syn, ant = syn_ant(item.lower().replace('_',' '))\n",
    "    print(\" \".join(syn)+\" face\\t+\")\n",
    "    if ant != []:\n",
    "        print(\" \".join(ant)+\" face\\t-\")"
   ]
  },
  {
   "cell_type": "code",
   "execution_count": null,
   "metadata": {},
   "outputs": [],
   "source": []
  },
  {
   "cell_type": "code",
   "execution_count": null,
   "metadata": {},
   "outputs": [],
   "source": []
  }
 ],
 "metadata": {
  "colab": {
   "collapsed_sections": [],
   "name": "imQueries.ipynb",
   "provenance": []
  },
  "kernelspec": {
   "display_name": "Python 3",
   "language": "python",
   "name": "python3"
  },
  "language_info": {
   "codemirror_mode": {
    "name": "ipython",
    "version": 3
   },
   "file_extension": ".py",
   "mimetype": "text/x-python",
   "name": "python",
   "nbconvert_exporter": "python",
   "pygments_lexer": "ipython3",
   "version": "3.6.9"
  }
 },
 "nbformat": 4,
 "nbformat_minor": 4
}
