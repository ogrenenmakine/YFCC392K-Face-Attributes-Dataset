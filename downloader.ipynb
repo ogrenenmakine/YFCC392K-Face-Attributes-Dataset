{
 "cells": [
  {
   "cell_type": "code",
   "execution_count": 1,
   "metadata": {},
   "outputs": [],
   "source": [
    "import os\n",
    "import urllib.request\n",
    "from tqdm import tqdm\n",
    "from multiprocessing import Pool"
   ]
  },
  {
   "cell_type": "code",
   "execution_count": 2,
   "metadata": {},
   "outputs": [],
   "source": [
    "import cv2\n",
    "from PIL import Image\n",
    "import torchvision.utils as utils\n",
    "from matplotlib.pyplot import imshow,imread\n",
    "from facenet_pytorch import MTCNN, InceptionResnetV1, extract_face\n",
    "import matplotlib.pyplot as plt\n",
    "import glob\n",
    "import numpy as np\n",
    "import torch"
   ]
  },
  {
   "cell_type": "code",
   "execution_count": 3,
   "metadata": {},
   "outputs": [],
   "source": [
    "file1 = open('yfcc100m_links.txt', 'r')\n",
    "Lines = file1.readlines()[1:]"
   ]
  },
  {
   "cell_type": "code",
   "execution_count": 4,
   "metadata": {},
   "outputs": [],
   "source": [
    "mtcnn = MTCNN(select_largest=True,post_process=False,device='cuda')"
   ]
  },
  {
   "cell_type": "code",
   "execution_count": 16,
   "metadata": {},
   "outputs": [],
   "source": [
    "def download_img(line):\n",
    "    url = line.strip().split(\"\\t\")[1]\n",
    "    folder = line.strip().split(\"\\t\")[2]\n",
    "    temp_path = \"temp/\" + \"ID\"+line.split('\\t')[0].strip()+\"_\"+url.split('/')[-1]\n",
    "    path = folder + \"/\" + \"ID\"+line.split('\\t')[0].strip()+\"_\"+url.split('/')[-1]\n",
    "    try:\n",
    "        os.makedirs(folder)\n",
    "    except OSError as e:\n",
    "        pass\n",
    "    try:\n",
    "        urllib.request.urlretrieve(url, temp_path)\n",
    "    except:\n",
    "        return \"\"\n",
    "    try:\n",
    "        image = face_recognition.load_image_file(temp_path)\n",
    "        face_landmarks_list = face_recognition.face_landmarks(image)\n",
    "        if len(face_landmarks_list) > 0:\n",
    "            os.rename(temp_path,path)\n",
    "        else:\n",
    "            os.remove(temp_path)        \n",
    "    except:\n",
    "        os.remove(temp_path)\n",
    "        return \"\""
   ]
  },
  {
   "cell_type": "raw",
   "metadata": {},
   "source": [
    "pool = Pool(processes=8)\n",
    "for _ in tqdm(pool.imap_unordered(download_img, Lines), total=len(Lines)):\n",
    "    pass"
   ]
  },
  {
   "cell_type": "code",
   "execution_count": null,
   "metadata": {},
   "outputs": [],
   "source": []
  }
 ],
 "metadata": {
  "kernelspec": {
   "display_name": "Python 3",
   "language": "python",
   "name": "python3"
  },
  "language_info": {
   "codemirror_mode": {
    "name": "ipython",
    "version": 3
   },
   "file_extension": ".py",
   "mimetype": "text/x-python",
   "name": "python",
   "nbconvert_exporter": "python",
   "pygments_lexer": "ipython3",
   "version": "3.6.9"
  }
 },
 "nbformat": 4,
 "nbformat_minor": 2
}
